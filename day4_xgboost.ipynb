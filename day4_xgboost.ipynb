{
  "nbformat": 4,
  "nbformat_minor": 0,
  "metadata": {
    "colab": {
      "name": "day4_xgboost.ipynb",
      "provenance": [],
      "collapsed_sections": [],
      "mount_file_id": "1MOiz0KB1cHNhPM14VeZhoono2OeU9SPL",
      "authorship_tag": "ABX9TyO4bbrADFhs+ccRJ3MdxZk4",
      "include_colab_link": true
    },
    "kernelspec": {
      "name": "python3",
      "display_name": "Python 3"
    }
  },
  "cells": [
    {
      "cell_type": "markdown",
      "metadata": {
        "id": "view-in-github",
        "colab_type": "text"
      },
      "source": [
        "<a href=\"https://colab.research.google.com/github/toskpl/dw_matrix_car/blob/master/day4_xgboost.ipynb\" target=\"_parent\"><img src=\"https://colab.research.google.com/assets/colab-badge.svg\" alt=\"Open In Colab\"/></a>"
      ]
    },
    {
      "cell_type": "code",
      "metadata": {
        "id": "X_-aG8xj8XHE",
        "colab_type": "code",
        "colab": {
          "base_uri": "https://localhost:8080/",
          "height": 493
        },
        "outputId": "2323ca6a-93c3-40de-ac72-ce2cf818455a"
      },
      "source": [
        "!pip install --upgrade tables\n",
        "!pip install eli5\n",
        "!pip install xgboost"
      ],
      "execution_count": 1,
      "outputs": [
        {
          "output_type": "stream",
          "text": [
            "Collecting tables\n",
            "\u001b[?25l  Downloading https://files.pythonhosted.org/packages/ed/c3/8fd9e3bb21872f9d69eb93b3014c86479864cca94e625fd03713ccacec80/tables-3.6.1-cp36-cp36m-manylinux1_x86_64.whl (4.3MB)\n",
            "\u001b[K     |████████████████████████████████| 4.3MB 3.5MB/s \n",
            "\u001b[?25hRequirement already satisfied, skipping upgrade: numexpr>=2.6.2 in /usr/local/lib/python3.6/dist-packages (from tables) (2.7.1)\n",
            "Requirement already satisfied, skipping upgrade: numpy>=1.9.3 in /usr/local/lib/python3.6/dist-packages (from tables) (1.17.5)\n",
            "Installing collected packages: tables\n",
            "  Found existing installation: tables 3.4.4\n",
            "    Uninstalling tables-3.4.4:\n",
            "      Successfully uninstalled tables-3.4.4\n",
            "Successfully installed tables-3.6.1\n",
            "Collecting eli5\n",
            "\u001b[?25l  Downloading https://files.pythonhosted.org/packages/97/2f/c85c7d8f8548e460829971785347e14e45fa5c6617da374711dec8cb38cc/eli5-0.10.1-py2.py3-none-any.whl (105kB)\n",
            "\u001b[K     |████████████████████████████████| 112kB 3.4MB/s \n",
            "\u001b[?25hRequirement already satisfied: scikit-learn>=0.18 in /usr/local/lib/python3.6/dist-packages (from eli5) (0.22.1)\n",
            "Requirement already satisfied: graphviz in /usr/local/lib/python3.6/dist-packages (from eli5) (0.10.1)\n",
            "Requirement already satisfied: attrs>16.0.0 in /usr/local/lib/python3.6/dist-packages (from eli5) (19.3.0)\n",
            "Requirement already satisfied: six in /usr/local/lib/python3.6/dist-packages (from eli5) (1.12.0)\n",
            "Requirement already satisfied: scipy in /usr/local/lib/python3.6/dist-packages (from eli5) (1.4.1)\n",
            "Requirement already satisfied: numpy>=1.9.0 in /usr/local/lib/python3.6/dist-packages (from eli5) (1.17.5)\n",
            "Requirement already satisfied: jinja2 in /usr/local/lib/python3.6/dist-packages (from eli5) (2.11.1)\n",
            "Requirement already satisfied: tabulate>=0.7.7 in /usr/local/lib/python3.6/dist-packages (from eli5) (0.8.6)\n",
            "Requirement already satisfied: joblib>=0.11 in /usr/local/lib/python3.6/dist-packages (from scikit-learn>=0.18->eli5) (0.14.1)\n",
            "Requirement already satisfied: MarkupSafe>=0.23 in /usr/local/lib/python3.6/dist-packages (from jinja2->eli5) (1.1.1)\n",
            "Installing collected packages: eli5\n",
            "Successfully installed eli5-0.10.1\n",
            "Requirement already satisfied: xgboost in /usr/local/lib/python3.6/dist-packages (0.90)\n",
            "Requirement already satisfied: scipy in /usr/local/lib/python3.6/dist-packages (from xgboost) (1.4.1)\n",
            "Requirement already satisfied: numpy in /usr/local/lib/python3.6/dist-packages (from xgboost) (1.17.5)\n"
          ],
          "name": "stdout"
        }
      ]
    },
    {
      "cell_type": "code",
      "metadata": {
        "id": "b2zgRUX98_b1",
        "colab_type": "code",
        "colab": {}
      },
      "source": [
        "\"\"\" wczytanie bibliotek\"\"\"\n",
        "\n",
        "import pandas as pd\n",
        "import numpy as np\n",
        "\n",
        "from sklearn.dummy import DummyRegressor\n",
        "from sklearn.tree import DecisionTreeRegressor\n",
        "from sklearn.ensemble import RandomForestRegressor\n",
        "\n",
        "import xgboost as xgb\n",
        " \n",
        "from sklearn.metrics import mean_absolute_error as mea\n",
        "from sklearn.model_selection import cross_val_score, KFold\n",
        "\n",
        "import eli5\n",
        "from eli5.sklearn import PermutationImportance"
      ],
      "execution_count": 0,
      "outputs": []
    },
    {
      "cell_type": "code",
      "metadata": {
        "id": "e16XIOcH9fQL",
        "colab_type": "code",
        "colab": {
          "base_uri": "https://localhost:8080/",
          "height": 34
        },
        "outputId": "ac929d90-0012-4ee2-d677-7fd160a0f44f"
      },
      "source": [
        "cd '/content/drive/My Drive/Colab Notebooks/DW_Matrix/matrix_two/dw_matrix_car'\n"
      ],
      "execution_count": 4,
      "outputs": [
        {
          "output_type": "stream",
          "text": [
            "/content/drive/My Drive/Colab Notebooks/DW_Matrix/matrix_two/dw_matrix_car\n"
          ],
          "name": "stdout"
        }
      ]
    },
    {
      "cell_type": "code",
      "metadata": {
        "id": "qZszMVhS9kkg",
        "colab_type": "code",
        "colab": {
          "base_uri": "https://localhost:8080/",
          "height": 34
        },
        "outputId": "bc437429-3f8c-42ad-83ff-39a6709f98f2"
      },
      "source": [
        "!ls"
      ],
      "execution_count": 5,
      "outputs": [
        {
          "output_type": "stream",
          "text": [
            "data  day2_visualization.ipynb\tday3_simple_model.ipynb  LICENSE  README.md\n"
          ],
          "name": "stdout"
        }
      ]
    },
    {
      "cell_type": "markdown",
      "metadata": {
        "id": "CBJE5vJL9tPW",
        "colab_type": "text"
      },
      "source": [
        "## Wczytanie danych"
      ]
    },
    {
      "cell_type": "code",
      "metadata": {
        "id": "HVzRIMKU9wbT",
        "colab_type": "code",
        "colab": {
          "base_uri": "https://localhost:8080/",
          "height": 34
        },
        "outputId": "a6d70605-f65d-4c5f-cb3a-08e5065f260b"
      },
      "source": [
        "df = pd.read_hdf('data/car.h5')\n",
        "df.shape"
      ],
      "execution_count": 6,
      "outputs": [
        {
          "output_type": "execute_result",
          "data": {
            "text/plain": [
              "(106494, 155)"
            ]
          },
          "metadata": {
            "tags": []
          },
          "execution_count": 6
        }
      ]
    },
    {
      "cell_type": "markdown",
      "metadata": {
        "id": "gmG9JsWq-Mb8",
        "colab_type": "text"
      },
      "source": [
        "## Feature Engineering"
      ]
    },
    {
      "cell_type": "code",
      "metadata": {
        "id": "Zjt8fRXQ96Aq",
        "colab_type": "code",
        "colab": {}
      },
      "source": [
        "SUFFIX_CAT = '__cat'\n",
        "for feat in df.columns:\n",
        "  if isinstance (df[feat][0],list): continue\n",
        "\n",
        "  factorize_values = df[feat].factorize()[0]\n",
        "  \"\"\" zabezpieczenie aby mozna bylo uruchomic wiwel razy komorke\"\"\"\n",
        "  if SUFFIX_CAT in feat:\n",
        "     df[feat] = factorize_values\n",
        "  else:\n",
        "    df [feat + SUFFIX_CAT] = df[feat].factorize()[0]"
      ],
      "execution_count": 0,
      "outputs": []
    },
    {
      "cell_type": "code",
      "metadata": {
        "id": "LptGyXO7-EBk",
        "colab_type": "code",
        "colab": {
          "base_uri": "https://localhost:8080/",
          "height": 34
        },
        "outputId": "e68ee397-998b-40c7-8c17-1571d63e8c7b"
      },
      "source": [
        "\"\"\"budujemy zbior cech\"\"\"\n",
        "\n",
        "cat_feats = [x for x in df.columns if SUFFIX_CAT in x]\n",
        "cat_feats = [x for x in cat_feats if 'price' not in x]\n",
        "len(cat_feats)"
      ],
      "execution_count": 9,
      "outputs": [
        {
          "output_type": "execute_result",
          "data": {
            "text/plain": [
              "151"
            ]
          },
          "metadata": {
            "tags": []
          },
          "execution_count": 9
        }
      ]
    },
    {
      "cell_type": "code",
      "metadata": {
        "id": "wxyhbAXq-aAQ",
        "colab_type": "code",
        "colab": {
          "base_uri": "https://localhost:8080/",
          "height": 34
        },
        "outputId": "435d179b-27e3-4e53-8f93-a716d774342a"
      },
      "source": [
        "X = df [cat_feats].values\n",
        "\n",
        "y= df ['price_value'].values\n",
        "\n",
        "model = DecisionTreeRegressor(max_depth=5)\n",
        "\n",
        "scores = cross_val_score(model, X,y, cv=3, scoring = 'neg_mean_absolute_error')\n",
        "np.mean(scores), np.std(scores)"
      ],
      "execution_count": 12,
      "outputs": [
        {
          "output_type": "execute_result",
          "data": {
            "text/plain": [
              "(-19695.13091100928, 148.72570644015937)"
            ]
          },
          "metadata": {
            "tags": []
          },
          "execution_count": 12
        }
      ]
    },
    {
      "cell_type": "code",
      "metadata": {
        "id": "DxroDRaJ-Kzz",
        "colab_type": "code",
        "colab": {}
      },
      "source": [
        "\"\"\"funkcja pomocnicza\"\"\"\n",
        "\n",
        "def run_model(model, feats):\n",
        "  X = df [feats].values\n",
        "  y= df ['price_value'].values\n",
        "\n",
        "  scores = cross_val_score(model, X,y, cv=3, scoring = 'neg_mean_absolute_error')\n",
        "  return np.mean(scores), np.std(scores) "
      ],
      "execution_count": 0,
      "outputs": []
    },
    {
      "cell_type": "markdown",
      "metadata": {
        "id": "4fQKyCScAJdd",
        "colab_type": "text"
      },
      "source": [
        "## DecisionTreeRegressor"
      ]
    },
    {
      "cell_type": "code",
      "metadata": {
        "id": "wo00OQsE_dAp",
        "colab_type": "code",
        "colab": {
          "base_uri": "https://localhost:8080/",
          "height": 34
        },
        "outputId": "c3e59d3b-f1b0-4e07-ebc5-bce4169c11c2"
      },
      "source": [
        "run_model(DecisionTreeRegressor(max_depth=5),cat_feats)"
      ],
      "execution_count": 14,
      "outputs": [
        {
          "output_type": "execute_result",
          "data": {
            "text/plain": [
              "(-19695.13091100928, 148.72570644015792)"
            ]
          },
          "metadata": {
            "tags": []
          },
          "execution_count": 14
        }
      ]
    },
    {
      "cell_type": "markdown",
      "metadata": {
        "id": "nRNXBUERAMb6",
        "colab_type": "text"
      },
      "source": [
        "## RandomForestRegressor\n"
      ]
    },
    {
      "cell_type": "code",
      "metadata": {
        "id": "GWAH-_pQAAM_",
        "colab_type": "code",
        "colab": {
          "base_uri": "https://localhost:8080/",
          "height": 34
        },
        "outputId": "3a56b7ae-41f6-4ec8-d487-67a6937cd6e8"
      },
      "source": [
        "model = RandomForestRegressor(max_depth=5,n_estimators= 50, random_state=2020)\n",
        "run_model(model,cat_feats)"
      ],
      "execution_count": 19,
      "outputs": [
        {
          "output_type": "execute_result",
          "data": {
            "text/plain": [
              "(-18774.078311945963, 56.07799419652943)"
            ]
          },
          "metadata": {
            "tags": []
          },
          "execution_count": 19
        }
      ]
    },
    {
      "cell_type": "code",
      "metadata": {
        "id": "Q2sYNMCIBRKL",
        "colab_type": "code",
        "colab": {}
      },
      "source": [
        ""
      ],
      "execution_count": 0,
      "outputs": []
    },
    {
      "cell_type": "markdown",
      "metadata": {
        "id": "RwnNUKQEBM5k",
        "colab_type": "text"
      },
      "source": [
        "## XGBoost\n"
      ]
    },
    {
      "cell_type": "code",
      "metadata": {
        "id": "Ycp_SXm0BSG3",
        "colab_type": "code",
        "colab": {
          "base_uri": "https://localhost:8080/",
          "height": 85
        },
        "outputId": "d0738151-c70f-4e2f-c97a-dc9565e30c85"
      },
      "source": [
        "xgb_params = {\n",
        "    'max_depth': 5,\n",
        "    'n_estimators': 50,\n",
        "    'learning_rate' : 0.1,\n",
        "    'seed': 2020\n",
        "}\n",
        "\n",
        "model = xgb.XGBRegressor(**xgb_params)\n",
        "run_model(model,cat_feats)"
      ],
      "execution_count": 27,
      "outputs": [
        {
          "output_type": "stream",
          "text": [
            "[04:52:21] WARNING: /workspace/src/objective/regression_obj.cu:152: reg:linear is now deprecated in favor of reg:squarederror.\n",
            "[04:52:40] WARNING: /workspace/src/objective/regression_obj.cu:152: reg:linear is now deprecated in favor of reg:squarederror.\n",
            "[04:52:59] WARNING: /workspace/src/objective/regression_obj.cu:152: reg:linear is now deprecated in favor of reg:squarederror.\n"
          ],
          "name": "stdout"
        },
        {
          "output_type": "execute_result",
          "data": {
            "text/plain": [
              "(-13108.379065811214, 74.32158265003798)"
            ]
          },
          "metadata": {
            "tags": []
          },
          "execution_count": 27
        }
      ]
    },
    {
      "cell_type": "code",
      "metadata": {
        "id": "N8Q3SaTiC5S1",
        "colab_type": "code",
        "colab": {
          "base_uri": "https://localhost:8080/",
          "height": 408
        },
        "outputId": "683b868e-4311-491c-b01e-17709a26326c"
      },
      "source": [
        "\"\"\"ważnosć cech \"\"\"\n",
        "m = xgb.XGBRegressor(max_depth = 5,n_estimators = 50, learning_rate = 0.1, seed = 2020)\n",
        "m.fit (X,y)\n",
        "\n",
        "imp = PermutationImportance(m, random_state= 0).fit(X,y)\n",
        "eli5.show_weights(imp,feature_names = cat_feats)"
      ],
      "execution_count": 29,
      "outputs": [
        {
          "output_type": "stream",
          "text": [
            "[05:03:23] WARNING: /workspace/src/objective/regression_obj.cu:152: reg:linear is now deprecated in favor of reg:squarederror.\n"
          ],
          "name": "stdout"
        },
        {
          "output_type": "execute_result",
          "data": {
            "text/html": [
              "\n",
              "    <style>\n",
              "    table.eli5-weights tr:hover {\n",
              "        filter: brightness(85%);\n",
              "    }\n",
              "</style>\n",
              "\n",
              "\n",
              "\n",
              "    \n",
              "\n",
              "    \n",
              "\n",
              "    \n",
              "\n",
              "    \n",
              "\n",
              "    \n",
              "\n",
              "    \n",
              "\n",
              "\n",
              "    \n",
              "\n",
              "    \n",
              "\n",
              "    \n",
              "\n",
              "    \n",
              "\n",
              "    \n",
              "\n",
              "    \n",
              "\n",
              "\n",
              "    \n",
              "\n",
              "    \n",
              "\n",
              "    \n",
              "\n",
              "    \n",
              "\n",
              "    \n",
              "        <table class=\"eli5-weights eli5-feature-importances\" style=\"border-collapse: collapse; border: none; margin-top: 0em; table-layout: auto;\">\n",
              "    <thead>\n",
              "    <tr style=\"border: none;\">\n",
              "        <th style=\"padding: 0 1em 0 0.5em; text-align: right; border: none;\">Weight</th>\n",
              "        <th style=\"padding: 0 0.5em 0 0.5em; text-align: left; border: none;\">Feature</th>\n",
              "    </tr>\n",
              "    </thead>\n",
              "    <tbody>\n",
              "    \n",
              "        <tr style=\"background-color: hsl(120, 100.00%, 80.00%); border: none;\">\n",
              "            <td style=\"padding: 0 1em 0 0.5em; text-align: right; border: none;\">\n",
              "                0.1194\n",
              "                \n",
              "                    &plusmn; 0.0031\n",
              "                \n",
              "            </td>\n",
              "            <td style=\"padding: 0 0.5em 0 0.5em; text-align: left; border: none;\">\n",
              "                param_napęd__cat\n",
              "            </td>\n",
              "        </tr>\n",
              "    \n",
              "        <tr style=\"background-color: hsl(120, 100.00%, 80.73%); border: none;\">\n",
              "            <td style=\"padding: 0 1em 0 0.5em; text-align: right; border: none;\">\n",
              "                0.1132\n",
              "                \n",
              "                    &plusmn; 0.0032\n",
              "                \n",
              "            </td>\n",
              "            <td style=\"padding: 0 0.5em 0 0.5em; text-align: left; border: none;\">\n",
              "                param_rok-produkcji__cat\n",
              "            </td>\n",
              "        </tr>\n",
              "    \n",
              "        <tr style=\"background-color: hsl(120, 100.00%, 81.24%); border: none;\">\n",
              "            <td style=\"padding: 0 1em 0 0.5em; text-align: right; border: none;\">\n",
              "                0.1090\n",
              "                \n",
              "                    &plusmn; 0.0025\n",
              "                \n",
              "            </td>\n",
              "            <td style=\"padding: 0 0.5em 0 0.5em; text-align: left; border: none;\">\n",
              "                param_stan__cat\n",
              "            </td>\n",
              "        </tr>\n",
              "    \n",
              "        <tr style=\"background-color: hsl(120, 100.00%, 87.38%); border: none;\">\n",
              "            <td style=\"padding: 0 1em 0 0.5em; text-align: right; border: none;\">\n",
              "                0.0619\n",
              "                \n",
              "                    &plusmn; 0.0025\n",
              "                \n",
              "            </td>\n",
              "            <td style=\"padding: 0 0.5em 0 0.5em; text-align: left; border: none;\">\n",
              "                param_skrzynia-biegów__cat\n",
              "            </td>\n",
              "        </tr>\n",
              "    \n",
              "        <tr style=\"background-color: hsl(120, 100.00%, 88.11%); border: none;\">\n",
              "            <td style=\"padding: 0 1em 0 0.5em; text-align: right; border: none;\">\n",
              "                0.0568\n",
              "                \n",
              "                    &plusmn; 0.0016\n",
              "                \n",
              "            </td>\n",
              "            <td style=\"padding: 0 0.5em 0 0.5em; text-align: left; border: none;\">\n",
              "                param_faktura-vat__cat\n",
              "            </td>\n",
              "        </tr>\n",
              "    \n",
              "        <tr style=\"background-color: hsl(120, 100.00%, 89.29%); border: none;\">\n",
              "            <td style=\"padding: 0 1em 0 0.5em; text-align: right; border: none;\">\n",
              "                0.0489\n",
              "                \n",
              "                    &plusmn; 0.0014\n",
              "                \n",
              "            </td>\n",
              "            <td style=\"padding: 0 0.5em 0 0.5em; text-align: left; border: none;\">\n",
              "                param_moc__cat\n",
              "            </td>\n",
              "        </tr>\n",
              "    \n",
              "        <tr style=\"background-color: hsl(120, 100.00%, 92.88%); border: none;\">\n",
              "            <td style=\"padding: 0 1em 0 0.5em; text-align: right; border: none;\">\n",
              "                0.0273\n",
              "                \n",
              "                    &plusmn; 0.0007\n",
              "                \n",
              "            </td>\n",
              "            <td style=\"padding: 0 0.5em 0 0.5em; text-align: left; border: none;\">\n",
              "                param_marka-pojazdu__cat\n",
              "            </td>\n",
              "        </tr>\n",
              "    \n",
              "        <tr style=\"background-color: hsl(120, 100.00%, 93.45%); border: none;\">\n",
              "            <td style=\"padding: 0 1em 0 0.5em; text-align: right; border: none;\">\n",
              "                0.0242\n",
              "                \n",
              "                    &plusmn; 0.0013\n",
              "                \n",
              "            </td>\n",
              "            <td style=\"padding: 0 0.5em 0 0.5em; text-align: left; border: none;\">\n",
              "                feature_kamera-cofania__cat\n",
              "            </td>\n",
              "        </tr>\n",
              "    \n",
              "        <tr style=\"background-color: hsl(120, 100.00%, 94.04%); border: none;\">\n",
              "            <td style=\"padding: 0 1em 0 0.5em; text-align: right; border: none;\">\n",
              "                0.0212\n",
              "                \n",
              "                    &plusmn; 0.0008\n",
              "                \n",
              "            </td>\n",
              "            <td style=\"padding: 0 0.5em 0 0.5em; text-align: left; border: none;\">\n",
              "                param_typ__cat\n",
              "            </td>\n",
              "        </tr>\n",
              "    \n",
              "        <tr style=\"background-color: hsl(120, 100.00%, 94.80%); border: none;\">\n",
              "            <td style=\"padding: 0 1em 0 0.5em; text-align: right; border: none;\">\n",
              "                0.0174\n",
              "                \n",
              "                    &plusmn; 0.0008\n",
              "                \n",
              "            </td>\n",
              "            <td style=\"padding: 0 0.5em 0 0.5em; text-align: left; border: none;\">\n",
              "                param_pojemność-skokowa__cat\n",
              "            </td>\n",
              "        </tr>\n",
              "    \n",
              "        <tr style=\"background-color: hsl(120, 100.00%, 94.94%); border: none;\">\n",
              "            <td style=\"padding: 0 1em 0 0.5em; text-align: right; border: none;\">\n",
              "                0.0168\n",
              "                \n",
              "                    &plusmn; 0.0010\n",
              "                \n",
              "            </td>\n",
              "            <td style=\"padding: 0 0.5em 0 0.5em; text-align: left; border: none;\">\n",
              "                seller_name__cat\n",
              "            </td>\n",
              "        </tr>\n",
              "    \n",
              "        <tr style=\"background-color: hsl(120, 100.00%, 95.66%); border: none;\">\n",
              "            <td style=\"padding: 0 1em 0 0.5em; text-align: right; border: none;\">\n",
              "                0.0135\n",
              "                \n",
              "                    &plusmn; 0.0008\n",
              "                \n",
              "            </td>\n",
              "            <td style=\"padding: 0 0.5em 0 0.5em; text-align: left; border: none;\">\n",
              "                feature_wspomaganie-kierownicy__cat\n",
              "            </td>\n",
              "        </tr>\n",
              "    \n",
              "        <tr style=\"background-color: hsl(120, 100.00%, 95.74%); border: none;\">\n",
              "            <td style=\"padding: 0 1em 0 0.5em; text-align: right; border: none;\">\n",
              "                0.0131\n",
              "                \n",
              "                    &plusmn; 0.0006\n",
              "                \n",
              "            </td>\n",
              "            <td style=\"padding: 0 0.5em 0 0.5em; text-align: left; border: none;\">\n",
              "                param_model-pojazdu__cat\n",
              "            </td>\n",
              "        </tr>\n",
              "    \n",
              "        <tr style=\"background-color: hsl(120, 100.00%, 95.84%); border: none;\">\n",
              "            <td style=\"padding: 0 1em 0 0.5em; text-align: right; border: none;\">\n",
              "                0.0127\n",
              "                \n",
              "                    &plusmn; 0.0005\n",
              "                \n",
              "            </td>\n",
              "            <td style=\"padding: 0 0.5em 0 0.5em; text-align: left; border: none;\">\n",
              "                param_wersja__cat\n",
              "            </td>\n",
              "        </tr>\n",
              "    \n",
              "        <tr style=\"background-color: hsl(120, 100.00%, 96.08%); border: none;\">\n",
              "            <td style=\"padding: 0 1em 0 0.5em; text-align: right; border: none;\">\n",
              "                0.0117\n",
              "                \n",
              "                    &plusmn; 0.0005\n",
              "                \n",
              "            </td>\n",
              "            <td style=\"padding: 0 0.5em 0 0.5em; text-align: left; border: none;\">\n",
              "                param_kod-silnika__cat\n",
              "            </td>\n",
              "        </tr>\n",
              "    \n",
              "        <tr style=\"background-color: hsl(120, 100.00%, 96.67%); border: none;\">\n",
              "            <td style=\"padding: 0 1em 0 0.5em; text-align: right; border: none;\">\n",
              "                0.0092\n",
              "                \n",
              "                    &plusmn; 0.0002\n",
              "                \n",
              "            </td>\n",
              "            <td style=\"padding: 0 0.5em 0 0.5em; text-align: left; border: none;\">\n",
              "                feature_system-start-stop__cat\n",
              "            </td>\n",
              "        </tr>\n",
              "    \n",
              "        <tr style=\"background-color: hsl(120, 100.00%, 96.72%); border: none;\">\n",
              "            <td style=\"padding: 0 1em 0 0.5em; text-align: right; border: none;\">\n",
              "                0.0090\n",
              "                \n",
              "                    &plusmn; 0.0004\n",
              "                \n",
              "            </td>\n",
              "            <td style=\"padding: 0 0.5em 0 0.5em; text-align: left; border: none;\">\n",
              "                feature_asystent-pasa-ruchu__cat\n",
              "            </td>\n",
              "        </tr>\n",
              "    \n",
              "        <tr style=\"background-color: hsl(120, 100.00%, 96.83%); border: none;\">\n",
              "            <td style=\"padding: 0 1em 0 0.5em; text-align: right; border: none;\">\n",
              "                0.0086\n",
              "                \n",
              "                    &plusmn; 0.0006\n",
              "                \n",
              "            </td>\n",
              "            <td style=\"padding: 0 0.5em 0 0.5em; text-align: left; border: none;\">\n",
              "                feature_czujniki-parkowania-przednie__cat\n",
              "            </td>\n",
              "        </tr>\n",
              "    \n",
              "        <tr style=\"background-color: hsl(120, 100.00%, 96.91%); border: none;\">\n",
              "            <td style=\"padding: 0 1em 0 0.5em; text-align: right; border: none;\">\n",
              "                0.0083\n",
              "                \n",
              "                    &plusmn; 0.0002\n",
              "                \n",
              "            </td>\n",
              "            <td style=\"padding: 0 0.5em 0 0.5em; text-align: left; border: none;\">\n",
              "                feature_łopatki-zmiany-biegów__cat\n",
              "            </td>\n",
              "        </tr>\n",
              "    \n",
              "        <tr style=\"background-color: hsl(120, 100.00%, 97.10%); border: none;\">\n",
              "            <td style=\"padding: 0 1em 0 0.5em; text-align: right; border: none;\">\n",
              "                0.0076\n",
              "                \n",
              "                    &plusmn; 0.0002\n",
              "                \n",
              "            </td>\n",
              "            <td style=\"padding: 0 0.5em 0 0.5em; text-align: left; border: none;\">\n",
              "                feature_regulowane-zawieszenie__cat\n",
              "            </td>\n",
              "        </tr>\n",
              "    \n",
              "    \n",
              "        \n",
              "            <tr style=\"background-color: hsl(120, 100.00%, 97.10%); border: none;\">\n",
              "                <td colspan=\"2\" style=\"padding: 0 0.5em 0 0.5em; text-align: center; border: none; white-space: nowrap;\">\n",
              "                    <i>&hellip; 131 more &hellip;</i>\n",
              "                </td>\n",
              "            </tr>\n",
              "        \n",
              "    \n",
              "    </tbody>\n",
              "</table>\n",
              "    \n",
              "\n",
              "    \n",
              "\n",
              "\n",
              "    \n",
              "\n",
              "    \n",
              "\n",
              "    \n",
              "\n",
              "    \n",
              "\n",
              "    \n",
              "\n",
              "    \n",
              "\n",
              "\n",
              "\n"
            ],
            "text/plain": [
              "<IPython.core.display.HTML object>"
            ]
          },
          "metadata": {
            "tags": []
          },
          "execution_count": 29
        }
      ]
    },
    {
      "cell_type": "code",
      "metadata": {
        "id": "-D8N1P3AGVuk",
        "colab_type": "code",
        "colab": {}
      },
      "source": [
        "feats = ['param_rok-produkcji__cat',\n",
        "         'param_napęd__cat',\n",
        "         'param_stan__cat',\n",
        "         'param_skrzynia-biegów__cat',\n",
        "         'param_faktura-vat__cat',\n",
        "         'param_moc__cat',\n",
        "         'param_marka-pojazdu__cat',\n",
        "         'feature_kamera-cofania__cat',\n",
        "         'param_typ__cat',\n",
        "         'param_pojemność-skokowa__cat',\n",
        "         'seller_name__cat',\n",
        "         'feature_wspomaganie-kierownicy__cat',\n",
        "         'param_model-pojazdu__cat',\n",
        "         'param_wersja__cat',\n",
        "         'param_kod-silnika__cat',\n",
        "         'feature_system-start-stop__cat',\n",
        "         'feature_asystent-pasa-ruchu__cat',\n",
        "         'feature_czujniki-parkowania-przednie__cat',\n",
        "         'feature_łopatki-zmiany-biegów__cat',\n",
        "         'feature_regulowane-zawieszenie__cat']"
      ],
      "execution_count": 0,
      "outputs": []
    },
    {
      "cell_type": "code",
      "metadata": {
        "id": "XWQJwUycH27U",
        "colab_type": "code",
        "colab": {
          "base_uri": "https://localhost:8080/",
          "height": 34
        },
        "outputId": "579c51ca-e90d-45d9-e2ec-8c6b4654c89a"
      },
      "source": [
        "len(feats)"
      ],
      "execution_count": 36,
      "outputs": [
        {
          "output_type": "execute_result",
          "data": {
            "text/plain": [
              "20"
            ]
          },
          "metadata": {
            "tags": []
          },
          "execution_count": 36
        }
      ]
    },
    {
      "cell_type": "code",
      "metadata": {
        "id": "_RoudnUhIKBB",
        "colab_type": "code",
        "colab": {
          "base_uri": "https://localhost:8080/",
          "height": 85
        },
        "outputId": "4d72d906-269b-4019-a8b0-9f6d9702203c"
      },
      "source": [
        "\"\"\" model na 20 najistotniejszych cechach \"\"\"\n",
        "\"\"\" wynik (-13373.448626945092, 66.39290420220289)\"\"\"\n",
        "model = xgb.XGBRegressor(**xgb_params)\n",
        "run_model(model,feats)"
      ],
      "execution_count": 32,
      "outputs": [
        {
          "output_type": "stream",
          "text": [
            "[05:17:54] WARNING: /workspace/src/objective/regression_obj.cu:152: reg:linear is now deprecated in favor of reg:squarederror.\n",
            "[05:17:58] WARNING: /workspace/src/objective/regression_obj.cu:152: reg:linear is now deprecated in favor of reg:squarederror.\n",
            "[05:18:02] WARNING: /workspace/src/objective/regression_obj.cu:152: reg:linear is now deprecated in favor of reg:squarederror.\n"
          ],
          "name": "stdout"
        },
        {
          "output_type": "execute_result",
          "data": {
            "text/plain": [
              "(-13373.448626945092, 66.39290420220289)"
            ]
          },
          "metadata": {
            "tags": []
          },
          "execution_count": 32
        }
      ]
    },
    {
      "cell_type": "code",
      "metadata": {
        "id": "RCkeJnz6lxzI",
        "colab_type": "code",
        "colab": {
          "base_uri": "https://localhost:8080/",
          "height": 187
        },
        "outputId": "badd5e0e-3a8a-445a-c6fd-cfe2fb908895"
      },
      "source": [
        "##parametr param_rok-produkcji\n",
        "df['param_rok-produkcji'].unique()"
      ],
      "execution_count": 40,
      "outputs": [
        {
          "output_type": "execute_result",
          "data": {
            "text/plain": [
              "array(['2018', '2011', '2015', '2009', '2017', '2012', '2013', '2007',\n",
              "       '2001', '2016', '2006', '2008', '2004', '1999', '2000', '2010',\n",
              "       '2005', '2002', '1998', '2014', '2003', '1982', '1995', '1997',\n",
              "       '1992', '1993', '1994', '1996', '1989', '1988', '1967', '1987',\n",
              "       '1970', '1959', '1990', '1991', '1974', None, '1975', '1973',\n",
              "       '1953', '1985', '1984', '1986', '1981', '1979', '1960', '1983',\n",
              "       '1978', '1964', '1980', '1972', '1969', '1956', '1966', '1977',\n",
              "       '1962', '1965', '1971', '1963', '1961', '1952', '1949', '1976',\n",
              "       '1937', '1968', '1958', '1955', '1933', '1929', '1957', '1944',\n",
              "       '1954', '1932', '1936', '1947', '1948'], dtype=object)"
            ]
          },
          "metadata": {
            "tags": []
          },
          "execution_count": 40
        }
      ]
    },
    {
      "cell_type": "code",
      "metadata": {
        "id": "_wLNC9LmmCCn",
        "colab_type": "code",
        "colab": {}
      },
      "source": [
        "df['param_rok-produkcji'] = df['param_rok-produkcji'].map(lambda x : -1 if str(x) == 'None' else int(x) )"
      ],
      "execution_count": 0,
      "outputs": []
    },
    {
      "cell_type": "code",
      "metadata": {
        "id": "nKRkP267m56W",
        "colab_type": "code",
        "colab": {}
      },
      "source": [
        "## cecha param_rok-produkcji po przekszałceniu\n",
        "feats = ['param_rok-produkcji',\n",
        "         'param_napęd__cat',\n",
        "         'param_stan__cat',\n",
        "         'param_skrzynia-biegów__cat',\n",
        "         'param_faktura-vat__cat',\n",
        "         'param_moc__cat',\n",
        "         'param_marka-pojazdu__cat',\n",
        "         'feature_kamera-cofania__cat',\n",
        "         'param_typ__cat',\n",
        "         'param_pojemność-skokowa__cat',\n",
        "         'seller_name__cat',\n",
        "         'feature_wspomaganie-kierownicy__cat',\n",
        "         'param_model-pojazdu__cat',\n",
        "         'param_wersja__cat',\n",
        "         'param_kod-silnika__cat',\n",
        "         'feature_system-start-stop__cat',\n",
        "         'feature_asystent-pasa-ruchu__cat',\n",
        "         'feature_czujniki-parkowania-przednie__cat',\n",
        "         'feature_łopatki-zmiany-biegów__cat',\n",
        "         'feature_regulowane-zawieszenie__cat']"
      ],
      "execution_count": 0,
      "outputs": []
    },
    {
      "cell_type": "code",
      "metadata": {
        "id": "GWqsKPgmnEsD",
        "colab_type": "code",
        "colab": {
          "base_uri": "https://localhost:8080/",
          "height": 85
        },
        "outputId": "9611b8a2-6255-4f78-f57b-d80e8ecccd4e"
      },
      "source": [
        "\"\"\" wynik (-11308.577496510174, 28.11473643563055)\"\"\"\n",
        "run_model(model,feats)"
      ],
      "execution_count": 49,
      "outputs": [
        {
          "output_type": "stream",
          "text": [
            "[07:32:53] WARNING: /workspace/src/objective/regression_obj.cu:152: reg:linear is now deprecated in favor of reg:squarederror.\n",
            "[07:32:57] WARNING: /workspace/src/objective/regression_obj.cu:152: reg:linear is now deprecated in favor of reg:squarederror.\n",
            "[07:33:01] WARNING: /workspace/src/objective/regression_obj.cu:152: reg:linear is now deprecated in favor of reg:squarederror.\n"
          ],
          "name": "stdout"
        },
        {
          "output_type": "execute_result",
          "data": {
            "text/plain": [
              "(-11308.577496510174, 28.11473643563055)"
            ]
          },
          "metadata": {
            "tags": []
          },
          "execution_count": 49
        }
      ]
    },
    {
      "cell_type": "code",
      "metadata": {
        "id": "_Ah1q9N-nvWP",
        "colab_type": "code",
        "colab": {
          "base_uri": "https://localhost:8080/",
          "height": 1000
        },
        "outputId": "e7482f4a-53f9-49ea-9fee-33837b68d16c"
      },
      "source": [
        "##parametr param_moc\n",
        "df['param_moc'].unique()"
      ],
      "execution_count": 50,
      "outputs": [
        {
          "output_type": "execute_result",
          "data": {
            "text/plain": [
              "array(['90 KM', '115 KM', '262 KM', '110 KM', '310 KM', '105 KM',\n",
              "       '140 KM', '175 KM', '125 KM', '185 KM', '190 KM', '440 KM',\n",
              "       '141 KM', '200 KM', '224 KM', '75 KM', '99 KM', '184 KM', '109 KM',\n",
              "       '233 KM', '116 KM', '68 KM', '286 KM', '126 KM', '160 KM',\n",
              "       '135 KM', '120 KM', '272 KM', None, '150 KM', '180 KM', '136 KM',\n",
              "       '102 KM', '131 KM', '218 KM', '245 KM', '170 KM', '112 KM',\n",
              "       '250 KM', '252 KM', '73 KM', '100 KM', '313 KM', '101 KM',\n",
              "       '285 KM', '70 KM', '383 KM', '174 KM', '277 KM', '132 KM',\n",
              "       '130 KM', '215 KM', '60 KM', '330 KM', '163 KM', '177 KM', '98 KM',\n",
              "       '78 KM', '189 KM', '156 KM', '143 KM', '69 KM', '113 KM', '65 KM',\n",
              "       '122 KM', '82 KM', '251 KM', '95 KM', '197 KM', '235 KM', '238 KM',\n",
              "       '171 KM', '381 KM', '400 KM', '178 KM', '80 KM', '165 KM', '85 KM',\n",
              "       '258 KM', '142 KM', '204 KM', '124 KM', '55 KM', '144 KM',\n",
              "       '231 KM', '248 KM', '152 KM', '181 KM', '210 KM', '340 KM',\n",
              "       '129 KM', '147 KM', '50 KM', '54 KM', '290 KM', '306 KM', '193 KM',\n",
              "       '77 KM', '164 KM', '96 KM', '194 KM', '111 KM', '166 KM', '206 KM',\n",
              "       '118 KM', '360 KM', '211 KM', '271 KM', '455 KM', '280 KM',\n",
              "       '106 KM', '114 KM', '421 KM', '74 KM', '213 KM', '121 KM',\n",
              "       '275 KM', '435 KM', '384 KM', '326 KM', '88 KM', '220 KM',\n",
              "       '260 KM', '64 KM', '86 KM', '128 KM', '256 KM', '240 KM', '244 KM',\n",
              "       '162 KM', '237 KM', '350 KM', '35 KM', '265 KM', '202 KM',\n",
              "       '133 KM', '83 KM', '117 KM', '146 KM', '92 KM', '192 KM', '145 KM',\n",
              "       '525 KM', '254 KM', '182 KM', '328 KM', '367 KM', '148 KM',\n",
              "       '456 KM', '97 KM', '270 KM', '107 KM', '108 KM', '203 KM',\n",
              "       '155 KM', '94 KM', '93 KM', '241 KM', '20 KM', '71 KM', '173 KM',\n",
              "       '58 KM', '205 KM', '236 KM', '1 400 KM', '557 KM', '84 KM',\n",
              "       '457 KM', '72 KM', '295 KM', '134 KM', '425 KM', '228 KM', '81 KM',\n",
              "       '230 KM', '201 KM', '87 KM', '234 KM', '299 KM', '585 KM',\n",
              "       '209 KM', '370 KM', '6 600 KM', '305 KM', '382 KM', '560 KM',\n",
              "       '158 KM', '176 KM', '320 KM', '225 KM', '62 KM', '255 KM',\n",
              "       '300 KM', '354 KM', '45 KM', '420 KM', '510 KM', '243 KM',\n",
              "       '239 KM', '468 KM', '409 KM', '24 KM', '335 KM', '605 KM',\n",
              "       '410 KM', '416 KM', '183 KM', '303 KM', '59 KM', '4 KM', '283 KM',\n",
              "       '385 KM', '104 KM', '127 KM', '278 KM', '344 KM', '365 KM',\n",
              "       '333 KM', '680 KM', '161 KM', '195 KM', '214 KM', '66 KM',\n",
              "       '170 000 KM', '219 KM', '89 KM', '41 KM', '249 KM', '388 KM',\n",
              "       '103 KM', '217 KM', '570 KM', '625 KM', '364 KM', '450 KM',\n",
              "       '138 KM', '253 KM', '67 KM', '157 KM', '405 KM', '517 KM',\n",
              "       '319 KM', '612 KM', '188 KM', '710 KM', '274 KM', '186 KM',\n",
              "       '139 KM', '11 000 KM', '1 006 KM', '153 KM', '1 430 KM', '323 KM',\n",
              "       '430 KM', '329 KM', '196 KM', '57 KM', '507 KM', '207 KM',\n",
              "       '489 KM', '460 KM', '408 KM', '308 KM', '359 KM', '312 KM',\n",
              "       '179 600 KM', '149 KM', '550 KM', '520 KM', '380 KM', '297 KM',\n",
              "       '347 KM', '259 KM', '212 KM', '343 KM', '309 KM', '53 KM',\n",
              "       '169 KM', '208 KM', '76 KM', '449 KM', '47 KM', '338 KM',\n",
              "       '1 995 KM', '470 KM', '151 KM', '168 KM', '600 KM', '660 KM',\n",
              "       '48 KM', '264 KM', '315 KM', '232 KM', '63 KM', '630 KM', '51 KM',\n",
              "       '1 156 KM', '351 KM', '442 KM', '191 KM', '5 KM', '91 KM', '21 KM',\n",
              "       '407 KM', '284 KM', '346 KM', '717 KM', '276 KM', '431 KM',\n",
              "       '179 KM', '223 KM', '40 KM', '325 KM', '11 KM', '268 KM', '640 KM',\n",
              "       '292 KM', '1 KM', '316 KM', '477 KM', '11 555 KM', '167 KM',\n",
              "       '390 KM', '226 KM', '317 KM', '172 KM', '187 KM', '1 005 KM',\n",
              "       '500 KM', '6 934 KM', '289 KM', '345 KM', '558 KM', '267 KM',\n",
              "       '540 KM', '9 KM', '279 KM', '334 KM', '137 KM', '287 KM', '10 KM',\n",
              "       '401 KM', '199 KM', '544 KM', '298 KM', '394 KM', '780 KM',\n",
              "       '123 KM', '530 KM', '426 KM', '307 KM', '222 KM', '79 KM',\n",
              "       '399 KM', '263 KM', '327 KM', '610 KM', '198 KM', '1 998 KM',\n",
              "       '404 KM', '30 KM', '502 KM', '469 KM', '1 122 KM', '3 KM',\n",
              "       '386 KM', '61 KM', '154 KM', '428 KM', '269 KM', '10 731 KM',\n",
              "       '311 KM', '480 KM', '376 KM', '519 KM', '361 KM', '770 KM',\n",
              "       '453 KM', '1 600 KM', '281 KM', '294 KM', '441 KM', '332 KM',\n",
              "       '247 KM', '227 KM', '800 KM', '288 KM', '337 KM', '324 KM',\n",
              "       '362 KM', '23 KM', '242 KM', '357 KM', '39 KM', '575 KM', '998 KM',\n",
              "       '273 KM', '8 KM', '56 KM', '119 KM', '462 KM', '43 KM', '355 KM',\n",
              "       '52 KM', '387 KM', '566 KM', '12 KM', '439 KM', '352 KM', '422 KM',\n",
              "       '296 KM', '304 KM', '555 KM', '551 KM', '485 KM', '42 KM',\n",
              "       '397 KM', '221 KM', '348 KM', '432 KM', '37 KM', '349 KM',\n",
              "       '302 KM', '356 KM', '2 100 KM', '476 KM', '975 KM', '369 KM',\n",
              "       '486 KM', '246 KM', '3 700 KM', '372 KM', '318 KM', '395 KM',\n",
              "       '514 KM', '14 800 KM', '406 KM', '412 KM', '8 498 KM', '342 KM',\n",
              "       '9 000 KM', '1 254 KM', '445 KM', '13 KM', '2 800 KM', '229 KM',\n",
              "       '282 KM', '495 KM', '378 KM', '490 KM', '368 KM', '472 KM',\n",
              "       '375 KM', '7 500 KM', '363 KM', '650 KM', '159 KM', '1 110 KM',\n",
              "       '44 KM', '434 KM', '571 KM', '543 848 KM', '707 KM', '301 KM',\n",
              "       '2 000 KM', '216 KM', '1 100 KM', '36 KM', '266 KM', '2 300 KM',\n",
              "       '609 KM', '46 KM', '1 116 KM', '1 300 KM', '900 KM', '339 KM',\n",
              "       '475 KM', '573 KM', '565 KM', '396 KM', '8 500 KM', '465 KM',\n",
              "       '685 KM', '437 KM', '257 KM', '5 100 KM', '371 KM', '2 938 KM',\n",
              "       '492 KM', '411 KM', '526 KM', '27 KM', '549 KM', '12 648 KM',\n",
              "       '261 KM', '177 000 KM', '10 000 KM', '293 KM', '1 984 KM',\n",
              "       '740 KM', '2 018 KM', '175 000 KM', '1 900 KM', '1 360 KM',\n",
              "       '581 KM', '1 781 KM', '28 KM', '174 000 KM', '501 KM', '504 KM',\n",
              "       '31 KM', '84 800 KM', '1 991 KM', '466 KM', '576 KM', '9 600 KM',\n",
              "       '415 KM', '7 700 KM', '10 500 KM', '1 198 KM', '799 KM', '18 KM',\n",
              "       '447 KM', '366 KM', '15 KM', '2 465 KM', '580 KM', '1 136 KM',\n",
              "       '670 KM', '136 000 KM', '11 200 KM', '590 KM', '564 KM',\n",
              "       '1 000 KM', '1 500 KM', '38 KM', '291 KM', '2 840 KM', '700 KM',\n",
              "       '2 311 KM', '1 424 KM', '745 KM', '14 KM', '321 KM', '436 KM',\n",
              "       '314 KM', '584 KM', '336 KM', '25 KM', '140 000 KM', '531 KM',\n",
              "       '2 KM', '1 540 KM', '529 KM', '467 KM', '478 KM', '8 568 KM',\n",
              "       '322 KM', '140 105 KM'], dtype=object)"
            ]
          },
          "metadata": {
            "tags": []
          },
          "execution_count": 50
        }
      ]
    },
    {
      "cell_type": "code",
      "metadata": {
        "id": "B7Pr98H1oJQr",
        "colab_type": "code",
        "colab": {
          "base_uri": "https://localhost:8080/",
          "height": 221
        },
        "outputId": "232b9fc4-2afd-49df-c0e8-bd590333f73d"
      },
      "source": [
        "df['param_moc'] = df['param_moc'].map(lambda x: -1 if str(x) == 'None'  else x)\n",
        "df['param_moc'].unique"
      ],
      "execution_count": 63,
      "outputs": [
        {
          "output_type": "execute_result",
          "data": {
            "text/plain": [
              "<bound method Series.unique of 0          90\n",
              "2         115\n",
              "3         262\n",
              "4         110\n",
              "5         310\n",
              "         ... \n",
              "160609     75\n",
              "160610     75\n",
              "160611    120\n",
              "160614    150\n",
              "160615     88\n",
              "Name: param_moc, Length: 106494, dtype: int64>"
            ]
          },
          "metadata": {
            "tags": []
          },
          "execution_count": 63
        }
      ]
    },
    {
      "cell_type": "code",
      "metadata": {
        "id": "agEdRrGcqhGx",
        "colab_type": "code",
        "colab": {}
      },
      "source": [
        "## cecha param_rok-produkcji po przekszałceniu\n",
        "## cecha param_moc po przekszałceniu\n",
        "feats = ['param_rok-produkcji',\n",
        "         'param_napęd__cat',\n",
        "         'param_stan__cat',\n",
        "         'param_skrzynia-biegów__cat',\n",
        "         'param_faktura-vat__cat',\n",
        "         'param_moc',\n",
        "         'param_marka-pojazdu__cat',\n",
        "         'feature_kamera-cofania__cat',\n",
        "         'param_typ__cat',\n",
        "         'param_pojemność-skokowa__cat',\n",
        "         'seller_name__cat',\n",
        "         'feature_wspomaganie-kierownicy__cat',\n",
        "         'param_model-pojazdu__cat',\n",
        "         'param_wersja__cat',\n",
        "         'param_kod-silnika__cat',\n",
        "         'feature_system-start-stop__cat',\n",
        "         'feature_asystent-pasa-ruchu__cat',\n",
        "         'feature_czujniki-parkowania-przednie__cat',\n",
        "         'feature_łopatki-zmiany-biegów__cat',\n",
        "         'feature_regulowane-zawieszenie__cat']"
      ],
      "execution_count": 0,
      "outputs": []
    },
    {
      "cell_type": "code",
      "metadata": {
        "id": "62UW3PhgqlOQ",
        "colab_type": "code",
        "colab": {
          "base_uri": "https://localhost:8080/",
          "height": 85
        },
        "outputId": "b661b0e4-360c-4d5f-95c7-476d2aabf1c9"
      },
      "source": [
        "\"\"\" wynik (-9716.874397429374, 61.855325308737015)\"\"\"\n",
        "run_model(model,feats)"
      ],
      "execution_count": 65,
      "outputs": [
        {
          "output_type": "stream",
          "text": [
            "[07:47:59] WARNING: /workspace/src/objective/regression_obj.cu:152: reg:linear is now deprecated in favor of reg:squarederror.\n",
            "[07:48:04] WARNING: /workspace/src/objective/regression_obj.cu:152: reg:linear is now deprecated in favor of reg:squarederror.\n",
            "[07:48:08] WARNING: /workspace/src/objective/regression_obj.cu:152: reg:linear is now deprecated in favor of reg:squarederror.\n"
          ],
          "name": "stdout"
        },
        {
          "output_type": "execute_result",
          "data": {
            "text/plain": [
              "(-9716.874397429374, 61.855325308737015)"
            ]
          },
          "metadata": {
            "tags": []
          },
          "execution_count": 65
        }
      ]
    },
    {
      "cell_type": "code",
      "metadata": {
        "id": "W7cn4KyqsOhJ",
        "colab_type": "code",
        "colab": {
          "base_uri": "https://localhost:8080/",
          "height": 51
        },
        "outputId": "4f101956-4013-4f4e-cb69-7e7e3500c6f4"
      },
      "source": [
        "##parametr param_pojemność-skokowa\n",
        "df['param_pojemność-skokowa'].unique()"
      ],
      "execution_count": 70,
      "outputs": [
        {
          "output_type": "execute_result",
          "data": {
            "text/plain": [
              "array(['898 cm3', '1 560 cm3', '3 000 cm3', ..., '5 992 cm3', '1 966 cm3',\n",
              "       '142 280 cm3'], dtype=object)"
            ]
          },
          "metadata": {
            "tags": []
          },
          "execution_count": 70
        }
      ]
    },
    {
      "cell_type": "code",
      "metadata": {
        "id": "jxqbr5IqsmVR",
        "colab_type": "code",
        "colab": {}
      },
      "source": [
        "df['param_pojemność-skokowa'] = df['param_pojemność-skokowa'].map(lambda x: -1 if str(x) == 'None'  else int(str(x).split('cm')[0].replace(' ','')))"
      ],
      "execution_count": 0,
      "outputs": []
    },
    {
      "cell_type": "code",
      "metadata": {
        "id": "VTYHdQpztba7",
        "colab_type": "code",
        "colab": {}
      },
      "source": [
        "## cecha param_rok-produkcji po przekszałceniu\n",
        "## cecha param_moc po przekszałceniu\n",
        "## cecha param_pojemność-skokowa po przekszałceniu\n",
        "feats = ['param_rok-produkcji',\n",
        "         'param_napęd__cat',\n",
        "         'param_stan__cat',\n",
        "         'param_skrzynia-biegów__cat',\n",
        "         'param_faktura-vat__cat',\n",
        "         'param_moc',\n",
        "         'param_marka-pojazdu__cat',\n",
        "         'feature_kamera-cofania__cat',\n",
        "         'param_typ__cat',\n",
        "         'param_pojemność-skokowa',\n",
        "         'seller_name__cat',\n",
        "         'feature_wspomaganie-kierownicy__cat',\n",
        "         'param_model-pojazdu__cat',\n",
        "         'param_wersja__cat',\n",
        "         'param_kod-silnika__cat',\n",
        "         'feature_system-start-stop__cat',\n",
        "         'feature_asystent-pasa-ruchu__cat',\n",
        "         'feature_czujniki-parkowania-przednie__cat',\n",
        "         'feature_łopatki-zmiany-biegów__cat',\n",
        "         'feature_regulowane-zawieszenie__cat']"
      ],
      "execution_count": 0,
      "outputs": []
    },
    {
      "cell_type": "code",
      "metadata": {
        "id": "dxCe1qLNtj75",
        "colab_type": "code",
        "colab": {
          "base_uri": "https://localhost:8080/",
          "height": 85
        },
        "outputId": "48a064a5-83fa-464f-c2bd-9de694322cfa"
      },
      "source": [
        "\"\"\" wynik (-9569.367265637287, 71.91237464960756)\"\"\"\n",
        "run_model(model,feats)"
      ],
      "execution_count": 77,
      "outputs": [
        {
          "output_type": "stream",
          "text": [
            "[08:02:34] WARNING: /workspace/src/objective/regression_obj.cu:152: reg:linear is now deprecated in favor of reg:squarederror.\n",
            "[08:02:38] WARNING: /workspace/src/objective/regression_obj.cu:152: reg:linear is now deprecated in favor of reg:squarederror.\n",
            "[08:02:42] WARNING: /workspace/src/objective/regression_obj.cu:152: reg:linear is now deprecated in favor of reg:squarederror.\n"
          ],
          "name": "stdout"
        },
        {
          "output_type": "execute_result",
          "data": {
            "text/plain": [
              "(-9569.367265637287, 71.91237464960756)"
            ]
          },
          "metadata": {
            "tags": []
          },
          "execution_count": 77
        }
      ]
    }
  ]
}